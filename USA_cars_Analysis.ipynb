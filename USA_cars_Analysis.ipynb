{
  "nbformat": 4,
  "nbformat_minor": 0,
  "metadata": {
    "colab": {
      "name": "USA_cars Analysis.ipynb",
      "provenance": [],
      "collapsed_sections": []
    },
    "kernelspec": {
      "name": "python3",
      "display_name": "Python 3"
    },
    "language_info": {
      "name": "python"
    }
  },
  "cells": [
    {
      "cell_type": "code",
      "metadata": {
        "id": "an2UPG8p5mlQ"
      },
      "source": [
        "import pandas as pd\n"
      ],
      "execution_count": 5,
      "outputs": []
    },
    {
      "cell_type": "code",
      "metadata": {
        "id": "abex2oYN6zES"
      },
      "source": [
        "df = pd.read_csv(\"USA_cars_datasets.csv\")"
      ],
      "execution_count": 6,
      "outputs": []
    },
    {
      "cell_type": "code",
      "metadata": {
        "colab": {
          "base_uri": "https://localhost:8080/",
          "height": 277
        },
        "id": "OsCoJNga62v3",
        "outputId": "8e9cdedb-faec-4833-f9bc-2ba84a3264e9"
      },
      "source": [
        "df.head()"
      ],
      "execution_count": 7,
      "outputs": [
        {
          "output_type": "execute_result",
          "data": {
            "text/html": [
              "<div>\n",
              "<style scoped>\n",
              "    .dataframe tbody tr th:only-of-type {\n",
              "        vertical-align: middle;\n",
              "    }\n",
              "\n",
              "    .dataframe tbody tr th {\n",
              "        vertical-align: top;\n",
              "    }\n",
              "\n",
              "    .dataframe thead th {\n",
              "        text-align: right;\n",
              "    }\n",
              "</style>\n",
              "<table border=\"1\" class=\"dataframe\">\n",
              "  <thead>\n",
              "    <tr style=\"text-align: right;\">\n",
              "      <th></th>\n",
              "      <th>Column1</th>\n",
              "      <th>price</th>\n",
              "      <th>brand</th>\n",
              "      <th>model</th>\n",
              "      <th>year</th>\n",
              "      <th>title_status</th>\n",
              "      <th>mileage</th>\n",
              "      <th>color</th>\n",
              "      <th>vin</th>\n",
              "      <th>lot</th>\n",
              "      <th>state</th>\n",
              "      <th>country</th>\n",
              "      <th>condition</th>\n",
              "    </tr>\n",
              "  </thead>\n",
              "  <tbody>\n",
              "    <tr>\n",
              "      <th>0</th>\n",
              "      <td>0</td>\n",
              "      <td>6300</td>\n",
              "      <td>toyota</td>\n",
              "      <td>cruiser</td>\n",
              "      <td>2008</td>\n",
              "      <td>clean vehicle</td>\n",
              "      <td>274117</td>\n",
              "      <td>black</td>\n",
              "      <td>jtezu11f88k007763</td>\n",
              "      <td>159348797</td>\n",
              "      <td>new jersey</td>\n",
              "      <td>usa</td>\n",
              "      <td>10 days left</td>\n",
              "    </tr>\n",
              "    <tr>\n",
              "      <th>1</th>\n",
              "      <td>1</td>\n",
              "      <td>2899</td>\n",
              "      <td>ford</td>\n",
              "      <td>se</td>\n",
              "      <td>2011</td>\n",
              "      <td>clean vehicle</td>\n",
              "      <td>190552</td>\n",
              "      <td>silver</td>\n",
              "      <td>2fmdk3gc4bbb02217</td>\n",
              "      <td>166951262</td>\n",
              "      <td>tennessee</td>\n",
              "      <td>usa</td>\n",
              "      <td>6 days left</td>\n",
              "    </tr>\n",
              "    <tr>\n",
              "      <th>2</th>\n",
              "      <td>2</td>\n",
              "      <td>5350</td>\n",
              "      <td>dodge</td>\n",
              "      <td>mpv</td>\n",
              "      <td>2018</td>\n",
              "      <td>clean vehicle</td>\n",
              "      <td>39590</td>\n",
              "      <td>silver</td>\n",
              "      <td>3c4pdcgg5jt346413</td>\n",
              "      <td>167655728</td>\n",
              "      <td>georgia</td>\n",
              "      <td>usa</td>\n",
              "      <td>2 days left</td>\n",
              "    </tr>\n",
              "    <tr>\n",
              "      <th>3</th>\n",
              "      <td>3</td>\n",
              "      <td>25000</td>\n",
              "      <td>ford</td>\n",
              "      <td>door</td>\n",
              "      <td>2014</td>\n",
              "      <td>clean vehicle</td>\n",
              "      <td>64146</td>\n",
              "      <td>blue</td>\n",
              "      <td>1ftfw1et4efc23745</td>\n",
              "      <td>167753855</td>\n",
              "      <td>virginia</td>\n",
              "      <td>usa</td>\n",
              "      <td>22 hours left</td>\n",
              "    </tr>\n",
              "    <tr>\n",
              "      <th>4</th>\n",
              "      <td>4</td>\n",
              "      <td>27700</td>\n",
              "      <td>chevrolet</td>\n",
              "      <td>1500</td>\n",
              "      <td>2018</td>\n",
              "      <td>clean vehicle</td>\n",
              "      <td>6654</td>\n",
              "      <td>red</td>\n",
              "      <td>3gcpcrec2jg473991</td>\n",
              "      <td>167763266</td>\n",
              "      <td>florida</td>\n",
              "      <td>usa</td>\n",
              "      <td>22 hours left</td>\n",
              "    </tr>\n",
              "  </tbody>\n",
              "</table>\n",
              "</div>"
            ],
            "text/plain": [
              "   Column1  price      brand  ...       state  country      condition\n",
              "0        0   6300     toyota  ...  new jersey      usa   10 days left\n",
              "1        1   2899       ford  ...   tennessee      usa    6 days left\n",
              "2        2   5350      dodge  ...     georgia      usa    2 days left\n",
              "3        3  25000       ford  ...    virginia      usa  22 hours left\n",
              "4        4  27700  chevrolet  ...     florida      usa  22 hours left\n",
              "\n",
              "[5 rows x 13 columns]"
            ]
          },
          "metadata": {},
          "execution_count": 7
        }
      ]
    },
    {
      "cell_type": "code",
      "metadata": {
        "id": "M7FQt4QV69Y-"
      },
      "source": [
        "#del df['Unnamed: 0']\n",
        "del df['vin']\n",
        "del df['lot']\n",
        "del df['condition']"
      ],
      "execution_count": 10,
      "outputs": []
    },
    {
      "cell_type": "code",
      "metadata": {
        "id": "ciOWCw457Qch",
        "colab": {
          "base_uri": "https://localhost:8080/",
          "height": 205
        },
        "outputId": "505e12c4-179e-48ef-b7a4-2f90d35e21b3"
      },
      "source": [
        "df.head()"
      ],
      "execution_count": 11,
      "outputs": [
        {
          "output_type": "execute_result",
          "data": {
            "text/html": [
              "<div>\n",
              "<style scoped>\n",
              "    .dataframe tbody tr th:only-of-type {\n",
              "        vertical-align: middle;\n",
              "    }\n",
              "\n",
              "    .dataframe tbody tr th {\n",
              "        vertical-align: top;\n",
              "    }\n",
              "\n",
              "    .dataframe thead th {\n",
              "        text-align: right;\n",
              "    }\n",
              "</style>\n",
              "<table border=\"1\" class=\"dataframe\">\n",
              "  <thead>\n",
              "    <tr style=\"text-align: right;\">\n",
              "      <th></th>\n",
              "      <th>Column1</th>\n",
              "      <th>price</th>\n",
              "      <th>brand</th>\n",
              "      <th>model</th>\n",
              "      <th>year</th>\n",
              "      <th>title_status</th>\n",
              "      <th>mileage</th>\n",
              "      <th>color</th>\n",
              "      <th>state</th>\n",
              "      <th>country</th>\n",
              "    </tr>\n",
              "  </thead>\n",
              "  <tbody>\n",
              "    <tr>\n",
              "      <th>0</th>\n",
              "      <td>0</td>\n",
              "      <td>6300</td>\n",
              "      <td>toyota</td>\n",
              "      <td>cruiser</td>\n",
              "      <td>2008</td>\n",
              "      <td>clean vehicle</td>\n",
              "      <td>274117</td>\n",
              "      <td>black</td>\n",
              "      <td>new jersey</td>\n",
              "      <td>usa</td>\n",
              "    </tr>\n",
              "    <tr>\n",
              "      <th>1</th>\n",
              "      <td>1</td>\n",
              "      <td>2899</td>\n",
              "      <td>ford</td>\n",
              "      <td>se</td>\n",
              "      <td>2011</td>\n",
              "      <td>clean vehicle</td>\n",
              "      <td>190552</td>\n",
              "      <td>silver</td>\n",
              "      <td>tennessee</td>\n",
              "      <td>usa</td>\n",
              "    </tr>\n",
              "    <tr>\n",
              "      <th>2</th>\n",
              "      <td>2</td>\n",
              "      <td>5350</td>\n",
              "      <td>dodge</td>\n",
              "      <td>mpv</td>\n",
              "      <td>2018</td>\n",
              "      <td>clean vehicle</td>\n",
              "      <td>39590</td>\n",
              "      <td>silver</td>\n",
              "      <td>georgia</td>\n",
              "      <td>usa</td>\n",
              "    </tr>\n",
              "    <tr>\n",
              "      <th>3</th>\n",
              "      <td>3</td>\n",
              "      <td>25000</td>\n",
              "      <td>ford</td>\n",
              "      <td>door</td>\n",
              "      <td>2014</td>\n",
              "      <td>clean vehicle</td>\n",
              "      <td>64146</td>\n",
              "      <td>blue</td>\n",
              "      <td>virginia</td>\n",
              "      <td>usa</td>\n",
              "    </tr>\n",
              "    <tr>\n",
              "      <th>4</th>\n",
              "      <td>4</td>\n",
              "      <td>27700</td>\n",
              "      <td>chevrolet</td>\n",
              "      <td>1500</td>\n",
              "      <td>2018</td>\n",
              "      <td>clean vehicle</td>\n",
              "      <td>6654</td>\n",
              "      <td>red</td>\n",
              "      <td>florida</td>\n",
              "      <td>usa</td>\n",
              "    </tr>\n",
              "  </tbody>\n",
              "</table>\n",
              "</div>"
            ],
            "text/plain": [
              "   Column1  price      brand    model  ...  mileage   color       state country\n",
              "0        0   6300     toyota  cruiser  ...   274117   black  new jersey     usa\n",
              "1        1   2899       ford       se  ...   190552  silver   tennessee     usa\n",
              "2        2   5350      dodge      mpv  ...    39590  silver     georgia     usa\n",
              "3        3  25000       ford     door  ...    64146    blue    virginia     usa\n",
              "4        4  27700  chevrolet     1500  ...     6654     red     florida     usa\n",
              "\n",
              "[5 rows x 10 columns]"
            ]
          },
          "metadata": {},
          "execution_count": 11
        }
      ]
    },
    {
      "cell_type": "code",
      "metadata": {
        "id": "a0JJPOml7RX1",
        "colab": {
          "base_uri": "https://localhost:8080/"
        },
        "outputId": "57b66d89-b78d-4873-f7fa-922628979bab"
      },
      "source": [
        "df['country'].unique()"
      ],
      "execution_count": 12,
      "outputs": [
        {
          "output_type": "execute_result",
          "data": {
            "text/plain": [
              "array([' usa', ' canada'], dtype=object)"
            ]
          },
          "metadata": {},
          "execution_count": 12
        }
      ]
    },
    {
      "cell_type": "code",
      "metadata": {
        "id": "USPQ4ul97VqM",
        "colab": {
          "base_uri": "https://localhost:8080/",
          "height": 268
        },
        "outputId": "91dd5903-e09b-42db-8736-1ad5a3eeeb87"
      },
      "source": [
        "df[df['country'] == ' canada']"
      ],
      "execution_count": 13,
      "outputs": [
        {
          "output_type": "execute_result",
          "data": {
            "text/html": [
              "<div>\n",
              "<style scoped>\n",
              "    .dataframe tbody tr th:only-of-type {\n",
              "        vertical-align: middle;\n",
              "    }\n",
              "\n",
              "    .dataframe tbody tr th {\n",
              "        vertical-align: top;\n",
              "    }\n",
              "\n",
              "    .dataframe thead th {\n",
              "        text-align: right;\n",
              "    }\n",
              "</style>\n",
              "<table border=\"1\" class=\"dataframe\">\n",
              "  <thead>\n",
              "    <tr style=\"text-align: right;\">\n",
              "      <th></th>\n",
              "      <th>Column1</th>\n",
              "      <th>price</th>\n",
              "      <th>brand</th>\n",
              "      <th>model</th>\n",
              "      <th>year</th>\n",
              "      <th>title_status</th>\n",
              "      <th>mileage</th>\n",
              "      <th>color</th>\n",
              "      <th>state</th>\n",
              "      <th>country</th>\n",
              "    </tr>\n",
              "  </thead>\n",
              "  <tbody>\n",
              "    <tr>\n",
              "      <th>261</th>\n",
              "      <td>261</td>\n",
              "      <td>33000</td>\n",
              "      <td>chevrolet</td>\n",
              "      <td>1500</td>\n",
              "      <td>2018</td>\n",
              "      <td>clean vehicle</td>\n",
              "      <td>52521</td>\n",
              "      <td>white</td>\n",
              "      <td>ontario</td>\n",
              "      <td>canada</td>\n",
              "    </tr>\n",
              "    <tr>\n",
              "      <th>813</th>\n",
              "      <td>813</td>\n",
              "      <td>30000</td>\n",
              "      <td>dodge</td>\n",
              "      <td>charger</td>\n",
              "      <td>2019</td>\n",
              "      <td>clean vehicle</td>\n",
              "      <td>43294</td>\n",
              "      <td>white</td>\n",
              "      <td>ontario</td>\n",
              "      <td>canada</td>\n",
              "    </tr>\n",
              "    <tr>\n",
              "      <th>814</th>\n",
              "      <td>814</td>\n",
              "      <td>30000</td>\n",
              "      <td>dodge</td>\n",
              "      <td>charger</td>\n",
              "      <td>2019</td>\n",
              "      <td>clean vehicle</td>\n",
              "      <td>54309</td>\n",
              "      <td>orange</td>\n",
              "      <td>ontario</td>\n",
              "      <td>canada</td>\n",
              "    </tr>\n",
              "    <tr>\n",
              "      <th>815</th>\n",
              "      <td>815</td>\n",
              "      <td>30000</td>\n",
              "      <td>dodge</td>\n",
              "      <td>charger</td>\n",
              "      <td>2019</td>\n",
              "      <td>clean vehicle</td>\n",
              "      <td>52822</td>\n",
              "      <td>white</td>\n",
              "      <td>ontario</td>\n",
              "      <td>canada</td>\n",
              "    </tr>\n",
              "    <tr>\n",
              "      <th>816</th>\n",
              "      <td>816</td>\n",
              "      <td>30000</td>\n",
              "      <td>dodge</td>\n",
              "      <td>charger</td>\n",
              "      <td>2019</td>\n",
              "      <td>clean vehicle</td>\n",
              "      <td>45554</td>\n",
              "      <td>white</td>\n",
              "      <td>ontario</td>\n",
              "      <td>canada</td>\n",
              "    </tr>\n",
              "    <tr>\n",
              "      <th>817</th>\n",
              "      <td>817</td>\n",
              "      <td>30000</td>\n",
              "      <td>dodge</td>\n",
              "      <td>charger</td>\n",
              "      <td>2019</td>\n",
              "      <td>clean vehicle</td>\n",
              "      <td>37538</td>\n",
              "      <td>white</td>\n",
              "      <td>ontario</td>\n",
              "      <td>canada</td>\n",
              "    </tr>\n",
              "    <tr>\n",
              "      <th>818</th>\n",
              "      <td>818</td>\n",
              "      <td>29500</td>\n",
              "      <td>dodge</td>\n",
              "      <td>charger</td>\n",
              "      <td>2019</td>\n",
              "      <td>clean vehicle</td>\n",
              "      <td>35153</td>\n",
              "      <td>red</td>\n",
              "      <td>ontario</td>\n",
              "      <td>canada</td>\n",
              "    </tr>\n",
              "  </tbody>\n",
              "</table>\n",
              "</div>"
            ],
            "text/plain": [
              "     Column1  price      brand    model  ...  mileage   color    state  country\n",
              "261      261  33000  chevrolet     1500  ...    52521   white  ontario   canada\n",
              "813      813  30000      dodge  charger  ...    43294   white  ontario   canada\n",
              "814      814  30000      dodge  charger  ...    54309  orange  ontario   canada\n",
              "815      815  30000      dodge  charger  ...    52822   white  ontario   canada\n",
              "816      816  30000      dodge  charger  ...    45554   white  ontario   canada\n",
              "817      817  30000      dodge  charger  ...    37538   white  ontario   canada\n",
              "818      818  29500      dodge  charger  ...    35153     red  ontario   canada\n",
              "\n",
              "[7 rows x 10 columns]"
            ]
          },
          "metadata": {},
          "execution_count": 13
        }
      ]
    },
    {
      "cell_type": "code",
      "metadata": {
        "id": "zhOT_BNp7dFg",
        "colab": {
          "base_uri": "https://localhost:8080/"
        },
        "outputId": "8ad12f5f-a459-4a87-803f-7059a166e5c1"
      },
      "source": [
        "for country in df['country'].unique():\n",
        "  print(country , len(df[df['country'] == country]))"
      ],
      "execution_count": 14,
      "outputs": [
        {
          "output_type": "stream",
          "name": "stdout",
          "text": [
            " usa 2492\n",
            " canada 7\n"
          ]
        }
      ]
    },
    {
      "cell_type": "code",
      "metadata": {
        "id": "963iFofg7f_4",
        "colab": {
          "base_uri": "https://localhost:8080/"
        },
        "outputId": "78ef8f0d-8ad2-449f-d179-38b63e8621e7"
      },
      "source": [
        "for year in df['year'].unique():\n",
        "  print(year , len(df[df['year'] == year]))"
      ],
      "execution_count": 15,
      "outputs": [
        {
          "output_type": "stream",
          "name": "stdout",
          "text": [
            "2008 18\n",
            "2011 23\n",
            "2018 395\n",
            "2014 104\n",
            "2010 13\n",
            "2017 377\n",
            "2009 11\n",
            "2013 86\n",
            "2015 196\n",
            "2020 48\n",
            "2016 203\n",
            "1973 1\n",
            "2003 9\n",
            "2019 892\n",
            "2002 2\n",
            "2000 4\n",
            "2001 5\n",
            "2005 6\n",
            "2012 72\n",
            "2006 8\n",
            "2007 6\n",
            "1998 4\n",
            "2004 6\n",
            "1994 2\n",
            "1997 2\n",
            "1996 2\n",
            "1999 1\n",
            "1984 1\n",
            "1995 1\n",
            "1993 1\n"
          ]
        }
      ]
    },
    {
      "cell_type": "code",
      "metadata": {
        "id": "wAPutS3x7jn-",
        "colab": {
          "base_uri": "https://localhost:8080/"
        },
        "outputId": "5367e3d1-9d5a-485c-a647-d4109e2e1490"
      },
      "source": [
        "for model in df['model'].unique():\n",
        "  print(model , len(df[df['model'] == model]))"
      ],
      "execution_count": 16,
      "outputs": [
        {
          "output_type": "stream",
          "name": "stdout",
          "text": [
            "cruiser 1\n",
            "se 1\n",
            "mpv 87\n",
            "door 651\n",
            "1500 39\n",
            "pk 5\n",
            "malibu 12\n",
            "coupe 6\n",
            "wagon 30\n",
            "forte 2\n",
            "encore 3\n",
            "sorento 5\n",
            "doors 148\n",
            "chassis 4\n",
            "q70 1\n",
            "camaro 6\n",
            "convertible 1\n",
            "vans 2\n",
            "srw 38\n",
            "compass 6\n",
            "enclave 2\n",
            "300 6\n",
            "cherokee 3\n",
            "pacifica 3\n",
            "x3 2\n",
            "equinox 18\n",
            "challenger 44\n",
            "m 1\n",
            "colorado 12\n",
            "focus 9\n",
            "durango 64\n",
            "escape 39\n",
            "charger 42\n",
            "explorer 39\n",
            "f-150 219\n",
            "3500 4\n",
            "caravan 102\n",
            "van 46\n",
            "dart 1\n",
            "2500 8\n",
            "esv 1\n",
            "cutaway 12\n",
            "el 3\n",
            "edge 34\n",
            "series 8\n",
            "flex 33\n",
            "srx 1\n",
            "cab 8\n",
            "pickup 15\n",
            "vehicl 1\n",
            "trax 8\n",
            "tahoe 9\n",
            "suburban 16\n",
            "cargo 2\n",
            "drw 10\n",
            "fiesta 14\n",
            "impala 12\n",
            "soul 1\n",
            "elantra 1\n",
            "pioneer 1\n",
            "trail 1\n",
            "traverse 6\n",
            "country 2\n",
            "sundance 1\n",
            "road/street 1\n",
            "nautilus 1\n",
            "gx 1\n",
            "q5 1\n",
            "gle 2\n",
            "sportage 1\n",
            "5 1\n",
            "sport 40\n",
            "discovery 1\n",
            "acadia 1\n",
            "ghibli 1\n",
            "glc 1\n",
            "e-class 1\n",
            "truck 4\n",
            "utility 1\n",
            "limited 1\n",
            "sl-class 1\n",
            "cx-3 1\n",
            "2500hd 1\n",
            "sonic 2\n",
            "corvette 4\n",
            "mdx 1\n",
            "xt5 1\n",
            "fusion 65\n",
            "mustang 29\n",
            "passenger 3\n",
            "volt 2\n",
            "spark 1\n",
            "cruze 2\n",
            "ld 3\n",
            "journey 61\n",
            "transit 41\n",
            "ranger 6\n",
            "taurus 10\n",
            "max 41\n",
            "energi 1\n",
            "expedition 28\n",
            "bus 2\n",
            "ecosport 7\n",
            "f-750 1\n",
            "d 2\n",
            "dr 1\n",
            "hybrid 5\n",
            "suv 1\n",
            "connect 1\n",
            "f-650 3\n",
            "sentra 28\n",
            "altima 21\n",
            "frontier 14\n",
            "rogue 54\n",
            "maxima 3\n",
            "versa 34\n",
            "note 2\n",
            "armada 4\n",
            "pathfinder 22\n",
            "titan 5\n",
            "sedan 4\n",
            "juke 1\n",
            "murano 5\n",
            "xterra 1\n",
            "kicks 1\n",
            "xd 1\n",
            "nvp 1\n"
          ]
        }
      ]
    },
    {
      "cell_type": "code",
      "metadata": {
        "id": "keDDxsxR7n40",
        "colab": {
          "base_uri": "https://localhost:8080/"
        },
        "outputId": "8d46cad1-b57d-41a3-dce4-43fa5be911a0"
      },
      "source": [
        "for brand in df['brand'].unique():\n",
        "  print(brand , len(df[df['brand'] == brand]))"
      ],
      "execution_count": 17,
      "outputs": [
        {
          "output_type": "stream",
          "name": "stdout",
          "text": [
            "toyota 1\n",
            "ford 1235\n",
            "dodge 432\n",
            "chevrolet 297\n",
            "gmc 42\n",
            "chrysler 18\n",
            "kia 13\n",
            "buick 13\n",
            "infiniti 12\n",
            "mercedes-benz 10\n",
            "jeep 30\n",
            "bmw 17\n",
            "cadillac 10\n",
            "hyundai 15\n",
            "mazda 2\n",
            "honda 12\n",
            "heartland 5\n",
            "jaguar 1\n",
            "acura 3\n",
            "harley-davidson 1\n",
            "audi 4\n",
            "lincoln 2\n",
            "lexus 2\n",
            "nissan 312\n",
            "land 4\n",
            "maserati 1\n",
            "peterbilt 4\n",
            "ram 1\n"
          ]
        }
      ]
    },
    {
      "cell_type": "code",
      "metadata": {
        "id": "h95GmXHY7rQ6",
        "colab": {
          "base_uri": "https://localhost:8080/"
        },
        "outputId": "89ca25c9-f8ab-4b09-edda-8225e7a24c92"
      },
      "source": [
        "df['year'].unique()"
      ],
      "execution_count": 18,
      "outputs": [
        {
          "output_type": "execute_result",
          "data": {
            "text/plain": [
              "array([2008, 2011, 2018, 2014, 2010, 2017, 2009, 2013, 2015, 2020, 2016,\n",
              "       1973, 2003, 2019, 2002, 2000, 2001, 2005, 2012, 2006, 2007, 1998,\n",
              "       2004, 1994, 1997, 1996, 1999, 1984, 1995, 1993])"
            ]
          },
          "metadata": {},
          "execution_count": 18
        }
      ]
    },
    {
      "cell_type": "code",
      "metadata": {
        "id": "Sarr574t7ump",
        "colab": {
          "base_uri": "https://localhost:8080/"
        },
        "outputId": "2c0b22ec-2dd3-4a54-d915-ad38928fe55c"
      },
      "source": [
        "df['title_status'].unique()"
      ],
      "execution_count": 19,
      "outputs": [
        {
          "output_type": "execute_result",
          "data": {
            "text/plain": [
              "array(['clean vehicle', 'salvage insurance'], dtype=object)"
            ]
          },
          "metadata": {},
          "execution_count": 19
        }
      ]
    },
    {
      "cell_type": "code",
      "metadata": {
        "id": "MHAZC7I57vpo",
        "colab": {
          "base_uri": "https://localhost:8080/"
        },
        "outputId": "0b5e3bc8-f30f-4e0f-ed2a-813cf65d523d"
      },
      "source": [
        "\n",
        "df['color'].unique()"
      ],
      "execution_count": 20,
      "outputs": [
        {
          "output_type": "execute_result",
          "data": {
            "text/plain": [
              "array(['black', 'silver', 'blue', 'red', 'white', 'gray', 'orange',\n",
              "       'brown', 'no_color', 'gold', 'charcoal', 'turquoise', 'beige',\n",
              "       'green', 'dark blue', 'maroon', 'phantom black', 'yellow',\n",
              "       'color:', 'light blue', 'toreador red', 'bright white clearcoat',\n",
              "       'billet silver metallic clearcoat', 'black clearcoat',\n",
              "       'jazz blue pearlcoat', 'purple',\n",
              "       'ruby red metallic tinted clearcoat', 'triple yellow tri-coat',\n",
              "       'competition orange', 'off-white', 'shadow black',\n",
              "       'magnetic metallic', 'ingot silver metallic', 'ruby red',\n",
              "       'royal crimson metallic tinted clearcoat', 'kona blue metallic',\n",
              "       'oxford white', 'lightning blue', 'ingot silver',\n",
              "       'white platinum tri-coat metallic', 'guard',\n",
              "       'tuxedo black metallic', 'tan', 'burgundy', 'super black',\n",
              "       'cayenne red', 'morningsky blue', 'pearl white', 'glacier white'],\n",
              "      dtype=object)"
            ]
          },
          "metadata": {},
          "execution_count": 20
        }
      ]
    },
    {
      "cell_type": "code",
      "metadata": {
        "id": "cg8sTPqx7zsU"
      },
      "source": [
        ""
      ],
      "execution_count": null,
      "outputs": []
    }
  ]
}